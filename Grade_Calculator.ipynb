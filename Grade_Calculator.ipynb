{
  "nbformat": 4,
  "nbformat_minor": 0,
  "metadata": {
    "colab": {
      "provenance": [],
      "authorship_tag": "ABX9TyNzuEZFta8B+EqmzFSP5Drv",
      "include_colab_link": true
    },
    "kernelspec": {
      "name": "python3",
      "display_name": "Python 3"
    },
    "language_info": {
      "name": "python"
    }
  },
  "cells": [
    {
      "cell_type": "markdown",
      "metadata": {
        "id": "view-in-github",
        "colab_type": "text"
      },
      "source": [
        "<a href=\"https://colab.research.google.com/github/Jere-the-Coding-Master/react-firebase-chat/blob/starter/Grade_Calculator.ipynb\" target=\"_parent\"><img src=\"https://colab.research.google.com/assets/colab-badge.svg\" alt=\"Open In Colab\"/></a>"
      ]
    },
    {
      "cell_type": "code",
      "execution_count": null,
      "metadata": {
        "colab": {
          "base_uri": "https://localhost:8080/"
        },
        "id": "2LISupupKkl1",
        "outputId": "a0b79021-057b-49d0-bb17-9af77e22461e"
      },
      "outputs": [
        {
          "output_type": "stream",
          "name": "stdout",
          "text": [
            "Enter your Name: Jeremiah\n",
            "Enter your Course Name: DSAL\n",
            "Enter your Prelim Grade: 70\n",
            "Enter your Midterm Grade: 70\n",
            "Enter your Finals Grade: 70\n",
            "\n",
            "Student Name: Jeremiah\n",
            "Course Name: DSAL\n",
            "\n",
            "\tPrelim Grade: \t70.0\n",
            "\tMidterm Grade: \t70.0\n",
            "\tFinals Grade: \t70.0\n",
            "\n",
            "\tSEMESTER GRADE: 70.00\n",
            "\n",
            "My emotion for you is  😆\n",
            "\n",
            "Do you want to see your equivalent grade?(Y/N)Y\n",
            "\n",
            "\tYour Grade Point Equivalent is  3.00\n"
          ]
        }
      ],
      "source": [
        "student_name = input(\"Enter your Name: \") # student name\n",
        "course_name = input(\"Enter your Course Name: \") # course name\n",
        "\n",
        "prelim = float(input(\"Enter your Prelim Grade: \")) # prelim\n",
        "midterm = float(input(\"Enter your Midterm Grade: \")) # midterm\n",
        "finals = float(input(\"Enter your Finals Grade: \")) # final\n",
        "\n",
        "sem_grade = (prelim * 0.3) + (midterm * 0.3) + (finals * 0.4) # sem grade\n",
        "\n",
        "print(\"\\nStudent Name: {}\\\n",
        "\\nCourse Name: {}\\\n",
        "\\n\\n\\tPrelim Grade: \\t{}\\\n",
        "\\n\\tMidterm Grade: \\t{}\\\n",
        "\\n\\tFinals Grade: \\t{}\\\n",
        "\\n\\n\\tSEMESTER GRADE: {:.2f}\".format(student_name, course_name, prelim, midterm, finals, sem_grade))\n",
        "\n",
        "\n",
        "# emotion\n",
        "def emoticon(sem_grade):\n",
        "  happy, lol, sad = \"\\U0001F600\", \"\\U0001F606\", \"\\U0001F62D\"\n",
        "  if sem_grade > 70.00:\n",
        "      return happy\n",
        "  elif sem_grade == 70.00:\n",
        "      return lol\n",
        "  else:\n",
        "      return sad\n",
        "\n",
        "print(\"\\nMy emotion for you is \",emoticon(sem_grade))\n",
        "\n",
        "\n",
        "#equivalent grade\n",
        "def equal_grade(sem_grade):\n",
        "  if sem_grade >= 97 and sem_grade <= 100:\n",
        "    return \"1.00\"\n",
        "\n",
        "  elif sem_grade >= 93 and sem_grade <= 96:\n",
        "    return \"1.25\"\n",
        "\n",
        "  elif sem_grade >= 89 and sem_grade <= 92:\n",
        "    return \"1.50\"\n",
        "\n",
        "  elif sem_grade >= 85 and sem_grade <= 88:\n",
        "    return \"1.75\"\n",
        "\n",
        "  elif sem_grade >= 82 and sem_grade <= 84:\n",
        "    return \"2.00\"\n",
        "\n",
        "  elif sem_grade >= 79 and sem_grade <= 81:\n",
        "    return \"2.25\"\n",
        "\n",
        "  elif sem_grade >= 76 and sem_grade <= 78:\n",
        "    return \"2.50\"\n",
        "\n",
        "  elif sem_grade >= 73 and sem_grade <= 75:\n",
        "    return \"2.75\"\n",
        "\n",
        "  elif sem_grade >= 70 and sem_grade <= 72:\n",
        "    return \"3.00\"\n",
        "\n",
        "  else:\n",
        "    return \"5.00\"\n",
        "\n",
        "\n",
        "while True:\n",
        "  show_grade = input(\"\\nDo you want to see your equivalent grade?(Y/N)\")\n",
        "  if show_grade == \"Y\":\n",
        "    print(\"\\n\\tYour Grade Point Equivalent is \",equal_grade(sem_grade))\n",
        "    break\n",
        "\n",
        "  elif show_grade == \"N\":\n",
        "    print(\"Thank you so much.\")\n",
        "    break\n",
        "\n",
        "  else:\n",
        "    print(\"Wrong input.\\n\")\n",
        "\n",
        "\n"
      ]
    },
    {
      "cell_type": "code",
      "source": [],
      "metadata": {
        "id": "5e6axsGRKsPv"
      },
      "execution_count": null,
      "outputs": []
    }
  ]
}